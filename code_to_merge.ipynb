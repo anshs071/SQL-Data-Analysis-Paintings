{
 "cells": [
  {
   "cell_type": "code",
   "execution_count": null,
   "id": "3c50dbf8-3025-4115-a891-d3ba85e59bc6",
   "metadata": {},
   "outputs": [],
   "source": [
    "import os\n",
    "\n",
    "# Specify the directory where your SQL files are\n",
    "sql_files_dir = r'path/to/your/sql/files'\n",
    "\n",
    "# Specify the name of the output file\n",
    "output_file_name = 'merged.sql'\n",
    "\n",
    "# Get a list of all SQL files in the directory\n",
    "sql_files = [f for f in os.listdir(sql_files_dir) if f.endswith('.sql')]\n",
    "\n",
    "# Initialize an empty string to hold the contents of all SQL files\n",
    "merged_sql = ''\n",
    "\n",
    "# Loop through each SQL file\n",
    "for sql_file in sql_files:\n",
    "    # Open the SQL file\n",
    "    with open(os.path.join(sql_files_dir, sql_file), 'r') as file:\n",
    "        # Read the contents of the SQL file\n",
    "        sql = file.read()\n",
    "        \n",
    "        # Add the contents of the SQL file to the merged SQL string\n",
    "        merged_sql += sql + '\\n\\n\\n\\n'\n",
    "\n",
    "# Write the merged SQL string to the output file\n",
    "with open(os.path.join(sql_files_dir, output_file_name), 'w') as file:\n",
    "    file.write(merged_sql)\n",
    "\n",
    "print(f\"All SQL files have been merged into {os.path.join(sql_files_dir, output_file_name)}.\")\n"
   ]
  }
 ],
 "metadata": {
  "kernelspec": {
   "display_name": "Python 3 (ipykernel)",
   "language": "python",
   "name": "python3"
  },
  "language_info": {
   "codemirror_mode": {
    "name": "ipython",
    "version": 3
   },
   "file_extension": ".py",
   "mimetype": "text/x-python",
   "name": "python",
   "nbconvert_exporter": "python",
   "pygments_lexer": "ipython3",
   "version": "3.12.2"
  }
 },
 "nbformat": 4,
 "nbformat_minor": 5
}
